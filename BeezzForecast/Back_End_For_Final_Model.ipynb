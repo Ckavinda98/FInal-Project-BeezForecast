{
 "cells": [
  {
   "cell_type": "code",
   "execution_count": null,
   "id": "06836aaf",
   "metadata": {},
   "outputs": [
    {
     "name": "stdout",
     "output_type": "stream",
     "text": [
      " * Serving Flask app \"__main__\" (lazy loading)\n",
      " * Environment: production\n",
      "\u001b[31m   WARNING: This is a development server. Do not use it in a production deployment.\u001b[0m\n",
      "\u001b[2m   Use a production WSGI server instead.\u001b[0m\n",
      " * Debug mode: off\n"
     ]
    },
    {
     "name": "stderr",
     "output_type": "stream",
     "text": [
      "C:\\Users\\Mical\\anaconda3\\lib\\site-packages\\sklearn\\base.py:329: UserWarning: Trying to unpickle estimator LogisticRegression from version 1.2.2 when using version 1.0.2. This might lead to breaking code or invalid results. Use at your own risk. For more info please refer to:\n",
      "https://scikit-learn.org/stable/modules/model_persistence.html#security-maintainability-limitations\n",
      "  warnings.warn(\n",
      "C:\\Users\\Mical\\anaconda3\\lib\\site-packages\\sklearn\\base.py:329: UserWarning: Trying to unpickle estimator GridSearchCV from version 1.2.2 when using version 1.0.2. This might lead to breaking code or invalid results. Use at your own risk. For more info please refer to:\n",
      "https://scikit-learn.org/stable/modules/model_persistence.html#security-maintainability-limitations\n",
      "  warnings.warn(\n",
      " * Running on http://127.0.0.1:8080/ (Press CTRL+C to quit)\n",
      "C:\\Users\\Mical\\anaconda3\\lib\\site-packages\\sklearn\\base.py:450: UserWarning: X does not have valid feature names, but LogisticRegression was fitted with feature names\n",
      "  warnings.warn(\n",
      "127.0.0.1 - - [03/May/2023 00:02:31] \"POST /predict HTTP/1.1\" 200 -\n"
     ]
    }
   ],
   "source": [
    "from flask import Flask, jsonify, request\n",
    "import pickle\n",
    "import numpy as np\n",
    "\n",
    "app = Flask(__name__)\n",
    "\n",
    "from flask_cors import CORS, cross_origin\n",
    "cors = CORS(app)\n",
    "CORS(app, support_credentials=True)\n",
    "\n",
    "# Load the saved model using pickle\n",
    "with open('C:/Users/Mical/Downloads/model.h5', 'rb') as f:\n",
    "    grid_search = pickle.load(f)\n",
    "\n",
    "# Retrieve the best fitted model with the best hyperparameters\n",
    "best_model = grid_search.best_estimator_\n",
    "\n",
    "# Define the prediction endpoint\n",
    "@app.route('/predict', methods=['POST'])\n",
    "@cross_origin(supports_credentials=True)\n",
    "def predict():\n",
    "    # Get the input data from the request payload\n",
    "    data = request.get_json()\n",
    "\n",
    "    # Perform prediction with the best fitted model\n",
    "    X = np.array([[data['a'], data['b'],data['c'],data['d'],data['e'],data['f'],data['g']]])\n",
    "    y_pred = best_model.predict_proba(X)\n",
    "\n",
    "    # Return the predicted values as a JSON response\n",
    "    response = {'predictions': y_pred.tolist()}\n",
    "    return jsonify(response)\n",
    "\n",
    "if __name__ == '__main__':\n",
    "    # Run the web server\n",
    "    app.run( port=8080)\n"
   ]
  },
  {
   "cell_type": "code",
   "execution_count": null,
   "id": "743c31fc",
   "metadata": {},
   "outputs": [],
   "source": []
  }
 ],
 "metadata": {
  "kernelspec": {
   "display_name": "Python 3 (ipykernel)",
   "language": "python",
   "name": "python3"
  },
  "language_info": {
   "codemirror_mode": {
    "name": "ipython",
    "version": 3
   },
   "file_extension": ".py",
   "mimetype": "text/x-python",
   "name": "python",
   "nbconvert_exporter": "python",
   "pygments_lexer": "ipython3",
   "version": "3.9.13"
  }
 },
 "nbformat": 4,
 "nbformat_minor": 5
}
